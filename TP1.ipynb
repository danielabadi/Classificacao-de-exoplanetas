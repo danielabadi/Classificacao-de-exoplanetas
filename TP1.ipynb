{
  "nbformat": 4,
  "nbformat_minor": 0,
  "metadata": {
    "colab": {
      "name": "TP1.ipynb",
      "provenance": [],
      "collapsed_sections": []
    },
    "kernelspec": {
      "name": "python3",
      "display_name": "Python 3"
    },
    "language_info": {
      "name": "python"
    }
  },
  "cells": [
    {
      "cell_type": "markdown",
      "source": [
        "# Trabalho Prático 1 - Classificação de Exoplanetas\n",
        "Aluno: Daniel Ferreira Abadi<br>\n",
        "Matrícula: 2018088062\n",
        "\n",
        "\n",
        "O objetivo deste trabalho prático é aplicar os conceitos vistos na disciplina e desenvolver novos conhecimentos, visto que nem todos os algoritmos foram estudados. Para o cumprimento deste objetivo, foi nos passada a tarefa de utilizar e comparar, por experimentos, algoritmos de aprendizado de máquina no problema de classificação binária de candidatos a exoplanetas.\n",
        "\n",
        "Na célula abaixo temos todas as importações de bibliotecas que foram utilizadas neste trabalho, além da semente aleatória utilizada. Há, também, a importação dos dados a serem utilizados no experimento. As bibliotecas Numpy e Pandas foram utilizadas para manipular os dados, enquanto a Matplotlib tem como papel a visualização de algumas métricas."
      ],
      "metadata": {
        "id": "o03ffGVQs4OE"
      }
    },
    {
      "cell_type": "code",
      "source": [
        "import numpy as np\n",
        "import pandas as pd\n",
        "import matplotlib.pyplot as plt\n",
        "\n",
        "from sklearn import preprocessing\n",
        "from sklearn import tree\n",
        "from sklearn import svm\n",
        "\n",
        "from sklearn.model_selection import cross_validate\n",
        "from sklearn.model_selection import train_test_split\n",
        "from sklearn.model_selection import GridSearchCV\n",
        "from sklearn.model_selection import cross_val_score\n",
        "\n",
        "\n",
        "from sklearn.naive_bayes import GaussianNB\n",
        "\n",
        "from sklearn.neighbors import KNeighborsClassifier\n",
        "\n",
        "from sklearn.ensemble import RandomForestClassifier\n",
        "from sklearn.ensemble import GradientBoostingClassifier\n",
        "\n",
        "from sklearn.metrics import roc_curve\n",
        "from sklearn.metrics import roc_auc_score\n",
        "from sklearn.metrics import precision_recall_curve\n",
        "from sklearn.metrics import precision_score\n",
        "from sklearn.metrics import recall_score\n",
        "\n",
        "\n",
        "np.random.seed(42)\n",
        "\n",
        "df_koi = pd.read_csv('koi_data.csv')\n",
        "df_koi.head()"
      ],
      "metadata": {
        "colab": {
          "base_uri": "https://localhost:8080/",
          "height": 300
        },
        "id": "8D9Gylb8zoI2",
        "outputId": "fcaf7d0e-4b92-4503-dc71-d948aa2f67cc"
      },
      "execution_count": 19,
      "outputs": [
        {
          "output_type": "execute_result",
          "data": {
            "text/plain": [
              "  kepoi_name koi_disposition  koi_period  koi_impact  koi_duration  koi_depth  \\\n",
              "0  K00752.01       CONFIRMED     9.48804       0.146       2.95750      615.8   \n",
              "1  K00752.02       CONFIRMED    54.41838       0.586       4.50700      874.8   \n",
              "2  K00754.01  FALSE POSITIVE     1.73695       1.276       2.40641     8079.2   \n",
              "3  K00755.01       CONFIRMED     2.52559       0.701       1.65450      603.3   \n",
              "4  K00114.01  FALSE POSITIVE     7.36179       1.169       5.02200      233.7   \n",
              "\n",
              "   koi_ror  koi_srho  koi_prad  koi_sma  ...  koi_fwm_srao  koi_fwm_sdeco  \\\n",
              "0  0.02234   3.20796      2.26   0.0853  ...         0.430          0.940   \n",
              "1  0.02795   3.02368      2.83   0.2734  ...        -0.630          1.230   \n",
              "2  0.38739   0.22080     33.46   0.0267  ...        -0.111          0.002   \n",
              "3  0.02406   1.98635      2.75   0.0374  ...        -0.010          0.230   \n",
              "4  0.18339   0.00485     39.21   0.0820  ...       -13.450         24.090   \n",
              "\n",
              "   koi_fwm_prao  koi_fwm_pdeco  koi_dicco_mra  koi_dicco_mdec  koi_dicco_msky  \\\n",
              "0      -0.00020       -0.00055         -0.010           0.200           0.200   \n",
              "1       0.00066       -0.00105          0.390           0.000           0.390   \n",
              "2       0.00302       -0.00142         -0.249           0.147           0.289   \n",
              "3       0.00008       -0.00007          0.030          -0.090           0.100   \n",
              "4       0.00303       -0.00555         -4.506           7.710           8.930   \n",
              "\n",
              "   koi_dikco_mra  koi_dikco_mdec  koi_dikco_msky  \n",
              "0          0.080           0.310           0.320  \n",
              "1          0.490           0.120           0.500  \n",
              "2         -0.257           0.099           0.276  \n",
              "3          0.070           0.020           0.070  \n",
              "4         -4.537           7.713           8.948  \n",
              "\n",
              "[5 rows x 43 columns]"
            ],
            "text/html": [
              "\n",
              "  <div id=\"df-dfb8d7a1-cd45-441d-8087-fa84745c558e\">\n",
              "    <div class=\"colab-df-container\">\n",
              "      <div>\n",
              "<style scoped>\n",
              "    .dataframe tbody tr th:only-of-type {\n",
              "        vertical-align: middle;\n",
              "    }\n",
              "\n",
              "    .dataframe tbody tr th {\n",
              "        vertical-align: top;\n",
              "    }\n",
              "\n",
              "    .dataframe thead th {\n",
              "        text-align: right;\n",
              "    }\n",
              "</style>\n",
              "<table border=\"1\" class=\"dataframe\">\n",
              "  <thead>\n",
              "    <tr style=\"text-align: right;\">\n",
              "      <th></th>\n",
              "      <th>kepoi_name</th>\n",
              "      <th>koi_disposition</th>\n",
              "      <th>koi_period</th>\n",
              "      <th>koi_impact</th>\n",
              "      <th>koi_duration</th>\n",
              "      <th>koi_depth</th>\n",
              "      <th>koi_ror</th>\n",
              "      <th>koi_srho</th>\n",
              "      <th>koi_prad</th>\n",
              "      <th>koi_sma</th>\n",
              "      <th>...</th>\n",
              "      <th>koi_fwm_srao</th>\n",
              "      <th>koi_fwm_sdeco</th>\n",
              "      <th>koi_fwm_prao</th>\n",
              "      <th>koi_fwm_pdeco</th>\n",
              "      <th>koi_dicco_mra</th>\n",
              "      <th>koi_dicco_mdec</th>\n",
              "      <th>koi_dicco_msky</th>\n",
              "      <th>koi_dikco_mra</th>\n",
              "      <th>koi_dikco_mdec</th>\n",
              "      <th>koi_dikco_msky</th>\n",
              "    </tr>\n",
              "  </thead>\n",
              "  <tbody>\n",
              "    <tr>\n",
              "      <th>0</th>\n",
              "      <td>K00752.01</td>\n",
              "      <td>CONFIRMED</td>\n",
              "      <td>9.48804</td>\n",
              "      <td>0.146</td>\n",
              "      <td>2.95750</td>\n",
              "      <td>615.8</td>\n",
              "      <td>0.02234</td>\n",
              "      <td>3.20796</td>\n",
              "      <td>2.26</td>\n",
              "      <td>0.0853</td>\n",
              "      <td>...</td>\n",
              "      <td>0.430</td>\n",
              "      <td>0.940</td>\n",
              "      <td>-0.00020</td>\n",
              "      <td>-0.00055</td>\n",
              "      <td>-0.010</td>\n",
              "      <td>0.200</td>\n",
              "      <td>0.200</td>\n",
              "      <td>0.080</td>\n",
              "      <td>0.310</td>\n",
              "      <td>0.320</td>\n",
              "    </tr>\n",
              "    <tr>\n",
              "      <th>1</th>\n",
              "      <td>K00752.02</td>\n",
              "      <td>CONFIRMED</td>\n",
              "      <td>54.41838</td>\n",
              "      <td>0.586</td>\n",
              "      <td>4.50700</td>\n",
              "      <td>874.8</td>\n",
              "      <td>0.02795</td>\n",
              "      <td>3.02368</td>\n",
              "      <td>2.83</td>\n",
              "      <td>0.2734</td>\n",
              "      <td>...</td>\n",
              "      <td>-0.630</td>\n",
              "      <td>1.230</td>\n",
              "      <td>0.00066</td>\n",
              "      <td>-0.00105</td>\n",
              "      <td>0.390</td>\n",
              "      <td>0.000</td>\n",
              "      <td>0.390</td>\n",
              "      <td>0.490</td>\n",
              "      <td>0.120</td>\n",
              "      <td>0.500</td>\n",
              "    </tr>\n",
              "    <tr>\n",
              "      <th>2</th>\n",
              "      <td>K00754.01</td>\n",
              "      <td>FALSE POSITIVE</td>\n",
              "      <td>1.73695</td>\n",
              "      <td>1.276</td>\n",
              "      <td>2.40641</td>\n",
              "      <td>8079.2</td>\n",
              "      <td>0.38739</td>\n",
              "      <td>0.22080</td>\n",
              "      <td>33.46</td>\n",
              "      <td>0.0267</td>\n",
              "      <td>...</td>\n",
              "      <td>-0.111</td>\n",
              "      <td>0.002</td>\n",
              "      <td>0.00302</td>\n",
              "      <td>-0.00142</td>\n",
              "      <td>-0.249</td>\n",
              "      <td>0.147</td>\n",
              "      <td>0.289</td>\n",
              "      <td>-0.257</td>\n",
              "      <td>0.099</td>\n",
              "      <td>0.276</td>\n",
              "    </tr>\n",
              "    <tr>\n",
              "      <th>3</th>\n",
              "      <td>K00755.01</td>\n",
              "      <td>CONFIRMED</td>\n",
              "      <td>2.52559</td>\n",
              "      <td>0.701</td>\n",
              "      <td>1.65450</td>\n",
              "      <td>603.3</td>\n",
              "      <td>0.02406</td>\n",
              "      <td>1.98635</td>\n",
              "      <td>2.75</td>\n",
              "      <td>0.0374</td>\n",
              "      <td>...</td>\n",
              "      <td>-0.010</td>\n",
              "      <td>0.230</td>\n",
              "      <td>0.00008</td>\n",
              "      <td>-0.00007</td>\n",
              "      <td>0.030</td>\n",
              "      <td>-0.090</td>\n",
              "      <td>0.100</td>\n",
              "      <td>0.070</td>\n",
              "      <td>0.020</td>\n",
              "      <td>0.070</td>\n",
              "    </tr>\n",
              "    <tr>\n",
              "      <th>4</th>\n",
              "      <td>K00114.01</td>\n",
              "      <td>FALSE POSITIVE</td>\n",
              "      <td>7.36179</td>\n",
              "      <td>1.169</td>\n",
              "      <td>5.02200</td>\n",
              "      <td>233.7</td>\n",
              "      <td>0.18339</td>\n",
              "      <td>0.00485</td>\n",
              "      <td>39.21</td>\n",
              "      <td>0.0820</td>\n",
              "      <td>...</td>\n",
              "      <td>-13.450</td>\n",
              "      <td>24.090</td>\n",
              "      <td>0.00303</td>\n",
              "      <td>-0.00555</td>\n",
              "      <td>-4.506</td>\n",
              "      <td>7.710</td>\n",
              "      <td>8.930</td>\n",
              "      <td>-4.537</td>\n",
              "      <td>7.713</td>\n",
              "      <td>8.948</td>\n",
              "    </tr>\n",
              "  </tbody>\n",
              "</table>\n",
              "<p>5 rows × 43 columns</p>\n",
              "</div>\n",
              "      <button class=\"colab-df-convert\" onclick=\"convertToInteractive('df-dfb8d7a1-cd45-441d-8087-fa84745c558e')\"\n",
              "              title=\"Convert this dataframe to an interactive table.\"\n",
              "              style=\"display:none;\">\n",
              "        \n",
              "  <svg xmlns=\"http://www.w3.org/2000/svg\" height=\"24px\"viewBox=\"0 0 24 24\"\n",
              "       width=\"24px\">\n",
              "    <path d=\"M0 0h24v24H0V0z\" fill=\"none\"/>\n",
              "    <path d=\"M18.56 5.44l.94 2.06.94-2.06 2.06-.94-2.06-.94-.94-2.06-.94 2.06-2.06.94zm-11 1L8.5 8.5l.94-2.06 2.06-.94-2.06-.94L8.5 2.5l-.94 2.06-2.06.94zm10 10l.94 2.06.94-2.06 2.06-.94-2.06-.94-.94-2.06-.94 2.06-2.06.94z\"/><path d=\"M17.41 7.96l-1.37-1.37c-.4-.4-.92-.59-1.43-.59-.52 0-1.04.2-1.43.59L10.3 9.45l-7.72 7.72c-.78.78-.78 2.05 0 2.83L4 21.41c.39.39.9.59 1.41.59.51 0 1.02-.2 1.41-.59l7.78-7.78 2.81-2.81c.8-.78.8-2.07 0-2.86zM5.41 20L4 18.59l7.72-7.72 1.47 1.35L5.41 20z\"/>\n",
              "  </svg>\n",
              "      </button>\n",
              "      \n",
              "  <style>\n",
              "    .colab-df-container {\n",
              "      display:flex;\n",
              "      flex-wrap:wrap;\n",
              "      gap: 12px;\n",
              "    }\n",
              "\n",
              "    .colab-df-convert {\n",
              "      background-color: #E8F0FE;\n",
              "      border: none;\n",
              "      border-radius: 50%;\n",
              "      cursor: pointer;\n",
              "      display: none;\n",
              "      fill: #1967D2;\n",
              "      height: 32px;\n",
              "      padding: 0 0 0 0;\n",
              "      width: 32px;\n",
              "    }\n",
              "\n",
              "    .colab-df-convert:hover {\n",
              "      background-color: #E2EBFA;\n",
              "      box-shadow: 0px 1px 2px rgba(60, 64, 67, 0.3), 0px 1px 3px 1px rgba(60, 64, 67, 0.15);\n",
              "      fill: #174EA6;\n",
              "    }\n",
              "\n",
              "    [theme=dark] .colab-df-convert {\n",
              "      background-color: #3B4455;\n",
              "      fill: #D2E3FC;\n",
              "    }\n",
              "\n",
              "    [theme=dark] .colab-df-convert:hover {\n",
              "      background-color: #434B5C;\n",
              "      box-shadow: 0px 1px 3px 1px rgba(0, 0, 0, 0.15);\n",
              "      filter: drop-shadow(0px 1px 2px rgba(0, 0, 0, 0.3));\n",
              "      fill: #FFFFFF;\n",
              "    }\n",
              "  </style>\n",
              "\n",
              "      <script>\n",
              "        const buttonEl =\n",
              "          document.querySelector('#df-dfb8d7a1-cd45-441d-8087-fa84745c558e button.colab-df-convert');\n",
              "        buttonEl.style.display =\n",
              "          google.colab.kernel.accessAllowed ? 'block' : 'none';\n",
              "\n",
              "        async function convertToInteractive(key) {\n",
              "          const element = document.querySelector('#df-dfb8d7a1-cd45-441d-8087-fa84745c558e');\n",
              "          const dataTable =\n",
              "            await google.colab.kernel.invokeFunction('convertToInteractive',\n",
              "                                                     [key], {});\n",
              "          if (!dataTable) return;\n",
              "\n",
              "          const docLinkHtml = 'Like what you see? Visit the ' +\n",
              "            '<a target=\"_blank\" href=https://colab.research.google.com/notebooks/data_table.ipynb>data table notebook</a>'\n",
              "            + ' to learn more about interactive tables.';\n",
              "          element.innerHTML = '';\n",
              "          dataTable['output_type'] = 'display_data';\n",
              "          await google.colab.output.renderOutput(dataTable, element);\n",
              "          const docLink = document.createElement('div');\n",
              "          docLink.innerHTML = docLinkHtml;\n",
              "          element.appendChild(docLink);\n",
              "        }\n",
              "      </script>\n",
              "    </div>\n",
              "  </div>\n",
              "  "
            ]
          },
          "metadata": {},
          "execution_count": 19
        }
      ]
    },
    {
      "cell_type": "markdown",
      "source": [
        "# Tratamento dos dados\n",
        "Os dados foram tratados de forma a possibilitar seu uso nos algoritmos de classificação. Primeiramente, a coluna de nomes foi excluída, uma vez que esta não poderia ser passada para os algoritmos em questão. O conjunto de dados também foi separado em dois, o conjunto X, que possui os valores numéricos (features), e o conjunto y, que possui a informação se o candidato é ou não um exoplaneta.\n",
        "\n",
        "Para que o vetor Y pudesse ser utilizado, foi necessário transformar seus campos em 0 ou 1. Durante os experimentos, foi percebido que o conjunto X não estava em sua melhor forma para ser utilizado, portanto foi percebida a necessidade de normalizá-lo. Tendo todos os preparativos feitos, os dois conjuntos foram divididos em treino e teste, com 25% dos dados destinados a testes."
      ],
      "metadata": {
        "id": "E1b5H31HtIpw"
      }
    },
    {
      "cell_type": "code",
      "source": [
        "# Removendo a coluna de nomes\n",
        "df_koi_drop_name = df_koi.drop(labels='kepoi_name', axis=1)\n",
        "\n",
        "# Separando X e y\n",
        "y = df_koi.iloc[:,1:2]\n",
        "X = df_koi.iloc[:,2:]\n",
        "\n",
        "# Transformando os valores categóricos em 0 ou 1\n",
        "enc = preprocessing.OrdinalEncoder()\n",
        "y = enc.fit_transform(y)\n",
        "\n",
        "# Normalização do X\n",
        "scaler = preprocessing.StandardScaler().fit(X) # normalizando o X\n",
        "X = scaler.transform(X)\n",
        "\n",
        "# Particionando os dados em treino e teste e embaralhando as linhas\n",
        "X_train, X_test, y_train, y_test = train_test_split(X, y, random_state=1, test_size=0.25)"
      ],
      "metadata": {
        "id": "pGtZu_wMtbNM"
      },
      "execution_count": 20,
      "outputs": []
    },
    {
      "cell_type": "markdown",
      "source": [
        "A função abaixo foi feita simplesmente com o intuito de apresentar os resultados obtidos."
      ],
      "metadata": {
        "id": "iOVTNlN45eGF"
      }
    },
    {
      "cell_type": "code",
      "source": [
        "# Função de plot\n",
        "def plot_charts(x_axis, y_axis, x_label, title):\n",
        "    fig, ax = plt.subplots()\n",
        "    ax.set_title(title)\n",
        "    ax.set_ylim([0.7, 1])\n",
        "    ax.set_ylabel(\"Acurácia\")\n",
        "    ax.set_xlabel(x_label)\n",
        "    colors = [\"green\" if y ==  max(y_axis) else \"gray\" for y in y_axis]\n",
        "    ax.bar(x_axis, y_axis, color=colors)\n",
        "    ax.grid(True, axis='y', color=\"gray\")\n",
        "    plt.plot()"
      ],
      "metadata": {
        "id": "iQ_5XldTML4R"
      },
      "execution_count": 21,
      "outputs": []
    },
    {
      "cell_type": "markdown",
      "source": [
        "# Classificadores\n",
        "Antes de introduzirmos os experimentos, vamos explicar como eles foram feitos. A avaliação de cada algoritmo foi feita utilizando a validação cruzada 5-fold, juntamente com a variação dos hiperparâmetros pedidos. Para isso, foi utilizada função a GridSearchCV, com \"scoring\" sendo medido em acurácia, e os resultados de cada hiperparâmetro sendo a média dos k-folds. Todo método possui uma visualização contendo as acurácias médias de cada hiperparâmetro, e uma sinalização de qual foi o melhor."
      ],
      "metadata": {
        "id": "vMJ20hVX1yO0"
      }
    },
    {
      "cell_type": "markdown",
      "source": [
        "## Naive Bayes"
      ],
      "metadata": {
        "id": "kgfbEtGIQKPY"
      }
    },
    {
      "cell_type": "code",
      "source": [
        "gnb = GaussianNB()\n",
        "gnb_searcher = GridSearchCV(gnb, {}, scoring=\"accuracy\", verbose=3, n_jobs=1, cv=5)\n",
        "gnb_searcher.fit(X_train, y_train[:,0])\n",
        "\n",
        "print(f\"Acurácia = {gnb_searcher.cv_results_['mean_test_score'][0]}\")"
      ],
      "metadata": {
        "colab": {
          "base_uri": "https://localhost:8080/"
        },
        "id": "MzXab4VAE-pA",
        "outputId": "05dbd5de-f4e0-4e2a-d867-c184d86b7b8f"
      },
      "execution_count": 22,
      "outputs": [
        {
          "output_type": "stream",
          "name": "stdout",
          "text": [
            "Fitting 5 folds for each of 1 candidates, totalling 5 fits\n",
            "[CV 1/5] END ..................................., score=0.912 total time=   0.0s\n",
            "[CV 2/5] END ..................................., score=0.926 total time=   0.0s\n",
            "[CV 3/5] END ..................................., score=0.928 total time=   0.0s\n",
            "[CV 4/5] END ..................................., score=0.919 total time=   0.0s\n",
            "[CV 5/5] END ..................................., score=0.919 total time=   0.0s\n",
            "Acurácia = 0.9207918841721658\n"
          ]
        }
      ]
    },
    {
      "cell_type": "markdown",
      "source": [
        "O Naive Bayes foi utilizado apenas como uma base para o experimento, mas mostrou uma boa acurácia, elevando o resultado esperado dos demais algoritmos de classificação."
      ],
      "metadata": {
        "id": "O_K31SZu9oeG"
      }
    },
    {
      "cell_type": "markdown",
      "source": [
        "## Decision Tree"
      ],
      "metadata": {
        "id": "IXNbVGbVQNpu"
      }
    },
    {
      "cell_type": "code",
      "source": [
        "dicision_tree = tree.DecisionTreeClassifier()\n",
        "# conjunto contendo o tamanho de cada árvore\n",
        "tree_depths = {\"max_depth\": [1, 2, 3, 4, 5, 6, 7, 8, 16, 32, None]}\n",
        "tree_searcher = GridSearchCV(dicision_tree, tree_depths, scoring=\"accuracy\", verbose=3, n_jobs=-1, cv=5)\n",
        "tree_searcher.fit(X_train, y_train[:,0])\n",
        "\n",
        "print(f\"Resultados:\")\n",
        "print(f\"Melhor acurária = {tree_searcher.best_score_}\")\n",
        "print(f\"Melhor parâmetro = {', '.join('{}: {}'.format(k, v) for k, v in tree_searcher.best_params_.items())}\\n\")\n",
        "plot_charts(['1', '2', '3', '4', '5', '6', '7', '8', '16', '32', 'None'], tree_searcher.cv_results_[\"mean_test_score\"], 'Profundiade máxima', 'Deicion Tree')"
      ],
      "metadata": {
        "id": "iTOy5BipGQKa",
        "colab": {
          "base_uri": "https://localhost:8080/",
          "height": 382
        },
        "outputId": "957f379c-cf11-495d-fd36-d3220718d2bf"
      },
      "execution_count": 23,
      "outputs": [
        {
          "output_type": "stream",
          "name": "stdout",
          "text": [
            "Fitting 5 folds for each of 11 candidates, totalling 55 fits\n",
            "Resultados:\n",
            "Melhor acurária = 0.951294527069175\n",
            "Melhor parâmetro = max_depth: 5\n",
            "\n"
          ]
        },
        {
          "output_type": "display_data",
          "data": {
            "text/plain": [
              "<Figure size 432x288 with 1 Axes>"
            ],
            "image/png": "[encoded data removed]"
          },
          "metadata": {
            "needs_background": "light"
          }
        }
      ]
    },
    {
      "cell_type": "markdown",
      "source": [
        "No algoritmo de Árvore de Decisão, o parâmetro avaliado é a altura máxima que a árvore pode atingir. Podemos observar que, para valores mais baixos, como 1 e 2, a acurácia foi muito baixa, indicando uma possível falta de capacidade e um erro de viés maior. A partir da altura 5, é possível notar que todas possuem acurácias bem próximas. Já com alturas máximas maiores, é possível notar uma diminuição da acurácia, podendo indicar um possível sobreajuste nos dados, aumentando o erro de variância."
      ],
      "metadata": {
        "id": "NkLRkzTC2Wb8"
      }
    },
    {
      "cell_type": "markdown",
      "source": [
        "## SVM"
      ],
      "metadata": {
        "id": "mfUbcK8-QSeI"
      }
    },
    {
      "cell_type": "code",
      "source": [
        "svm_classifier = svm.SVC(probability=True)\n",
        "# conjunto contendo os kernels\n",
        "svm_kernels = {\"kernel\": [\"linear\", \"sigmoid\", \"poly\", \"rbf\"]}\n",
        "svm_searcher = GridSearchCV(svm_classifier, svm_kernels, scoring=\"accuracy\", verbose=3, n_jobs=-1, cv=5)\n",
        "svm_searcher.fit(X_train, y_train[:,0])\n",
        "\n",
        "print(f\"Resultados:\")\n",
        "print(f\"Melhor acurária = {svm_searcher.best_score_}\")\n",
        "print(f\"Melhor parâmetro = {', '.join('{}: {}'.format(k, v) for k, v in svm_searcher.best_params_.items())}\\n\")\n",
        "plot_charts(svm_kernels['kernel'], svm_searcher.cv_results_[\"mean_test_score\"], 'Kernel', 'SVM')"
      ],
      "metadata": {
        "colab": {
          "base_uri": "https://localhost:8080/",
          "height": 382
        },
        "id": "20JyDowkWTwQ",
        "outputId": "575e5a81-ac6b-43c3-f03d-dee3885e29a3"
      },
      "execution_count": 24,
      "outputs": [
        {
          "output_type": "stream",
          "name": "stdout",
          "text": [
            "Fitting 5 folds for each of 4 candidates, totalling 20 fits\n",
            "Resultados:\n",
            "Melhor acurária = 0.9515502807052103\n",
            "Melhor parâmetro = kernel: linear\n",
            "\n"
          ]
        },
        {
          "output_type": "display_data",
          "data": {
            "text/plain": [
              "<Figure size 432x288 with 1 Axes>"
            ],
            "image/png": "[encoded data removed]"
          },
          "metadata": {
            "needs_background": "light"
          }
        }
      ]
    },
    {
      "cell_type": "markdown",
      "source": [
        "No SVM, o objetivo era testá-lo utilizando diferentes kernels, que dão capacidade para o modelo. Kernels mais simples adicionam menos capacidade ao modelo, enquanto kernels com funções mais complexas podem adicionar muita capacidade. O objetivo é então comparar qual kernel é o mais apropriado aos dados. Conforme vemos no gráfico acima, o kernel linear foi a melhor opção, uma possível explicação é que os dados não precisam de muita capacidade para serem classificados corretamente."
      ],
      "metadata": {
        "id": "3OS_ldFN5W4j"
      }
    },
    {
      "cell_type": "markdown",
      "source": [
        "## k-NN"
      ],
      "metadata": {
        "id": "rKfuDOMXUw7g"
      }
    },
    {
      "cell_type": "code",
      "source": [
        "knn_classifier = KNeighborsClassifier()\n",
        "# conjunto contendo a quantidade de vizinhos utilizados\n",
        "num_neighbors = {'n_neighbors': [1, 2, 3, 4, 5, 6, 7, 8, 16, 32]}\n",
        "knn_searcher = GridSearchCV(knn_classifier, num_neighbors, scoring=\"accuracy\", verbose=3, n_jobs=-1, cv=5)\n",
        "knn_searcher.fit(X_train, y_train[:,0])\n",
        "\n",
        "print(f\"Resultados:\")\n",
        "print(f\"Melhor acurária = {knn_searcher.best_score_}\")\n",
        "print(f\"Melhor parâmetro = {', '.join('{}: {}'.format(k, v) for k, v in knn_searcher.best_params_.items())}\\n\")\n",
        "plot_charts(['1', '2', '3', '4', '5', '6', '7', '8', '16', '32'], knn_searcher.cv_results_[\"mean_test_score\"], 'K neighbors', 'K-NN')"
      ],
      "metadata": {
        "colab": {
          "base_uri": "https://localhost:8080/",
          "height": 382
        },
        "id": "KrbWuIMKU1RN",
        "outputId": "748e3b0d-deda-4c18-cba8-f864015ef3e6"
      },
      "execution_count": 25,
      "outputs": [
        {
          "output_type": "stream",
          "name": "stdout",
          "text": [
            "Fitting 5 folds for each of 10 candidates, totalling 50 fits\n",
            "Resultados:\n",
            "Melhor acurária = 0.8882373026034998\n",
            "Melhor parâmetro = n_neighbors: 3\n",
            "\n"
          ]
        },
        {
          "output_type": "display_data",
          "data": {
            "text/plain": [
              "<Figure size 432x288 with 1 Axes>"
            ],
            "image/png": "[encoded data removed]"
          },
          "metadata": {
            "needs_background": "light"
          }
        }
      ]
    },
    {
      "cell_type": "markdown",
      "source": [
        "O classificador K-NN classifica um ponto de acordo com seus k vizinhos mais próximos. Escolhendo poucos vizinhos, ficamos reféns do ruído oferecido pelos dados, podendo ter um erro de variância maior. Já para valores maiores, estamos menos suscetíveis a erros de variância, mas há o risco de generalizarmos muito, a ponto de não conseguirmos classificar corretamente. Tendo isso em vista, o algoritmo não se encaixou bem aos dados, fornecendo acurácias menores do que os outros algoritmos implementados."
      ],
      "metadata": {
        "id": "AWF7Qnp67NOr"
      }
    },
    {
      "cell_type": "markdown",
      "source": [
        "## Random Forest"
      ],
      "metadata": {
        "id": "Ao04l8xhX5In"
      }
    },
    {
      "cell_type": "code",
      "source": [
        "forest_classifier = RandomForestClassifier()\n",
        "# conjunto contendo o número de árvores utilizadas\n",
        "num_estimators = {\"n_estimators\": [4, 8, 16, 32, 64, 100, 128, 256, 512, 1024]}\n",
        "forest_searcher = GridSearchCV(forest_classifier, num_estimators, scoring=\"accuracy\", verbose=3, n_jobs=-1, cv=5)\n",
        "forest_searcher.fit(X_train, y_train[:,0])\n",
        "\n",
        "print(f\"Resultados:\")\n",
        "print(f\"Melhor acurária = {forest_searcher.best_score_}\")\n",
        "print(f\"Melhor parâmetro = {', '.join('{}: {}'.format(k, v) for k, v in forest_searcher.best_params_.items())}\\n\")\n",
        "plot_charts(['4', '8', '16', '32', '64', '100', '128', '256', '512', '1024'], forest_searcher.cv_results_[\"mean_test_score\"], 'Número de árvores', 'Random Forest')"
      ],
      "metadata": {
        "colab": {
          "base_uri": "https://localhost:8080/",
          "height": 382
        },
        "id": "b5lokDdeX9eK",
        "outputId": "e7108be9-1d73-4d0d-f871-5157fd535793"
      },
      "execution_count": 26,
      "outputs": [
        {
          "output_type": "stream",
          "name": "stdout",
          "text": [
            "Fitting 5 folds for each of 10 candidates, totalling 50 fits\n",
            "Resultados:\n",
            "Melhor acurária = 0.9677021569979317\n",
            "Melhor parâmetro = n_estimators: 32\n",
            "\n"
          ]
        },
        {
          "output_type": "display_data",
          "data": {
            "text/plain": [
              "<Figure size 432x288 with 1 Axes>"
            ],
            "image/png": "[encoded data removed]"
          },
          "metadata": {
            "needs_background": "light"
          }
        }
      ]
    },
    {
      "cell_type": "markdown",
      "source": [
        "O classificador Random Forest utiliza N árvores de decisão para a classificação, que é feita levando em conta o resultado da maioria das árvores. Como não foi passado nenhum outro parâmetro a ser utilizado, os outros foram deixados como padrão. Isso nos leva a ter árvores com tamanhos máximos indefinidos. Tendo isso em vista, com o aumento do número de árvores, conseguimos diminuir o erro de viés, já que as árvores são diferentes umas das outras. Mas um número muito grande de árvores pode aumentar o erro de variância, já que cada árvore vai ser treinada em um conjunto separado de treino, e quanto menor esse conjunto, mais propenso a essas árvores realizarem sobre ajuste. Portanto, um número menor de árvores pode minimizar o erro de viés e um número muito alto pode aumentar o erro de variância."
      ],
      "metadata": {
        "id": "3hQa1UfzZkoL"
      }
    },
    {
      "cell_type": "markdown",
      "source": [
        "## Gradient Tree Boosting"
      ],
      "metadata": {
        "id": "yEQ0xDxPamxC"
      }
    },
    {
      "cell_type": "code",
      "source": [
        "boost_classifier = GradientBoostingClassifier()\n",
        "num_iterations = {\"n_estimators\": [4, 8, 16, 32, 64, 128, 256, 512, 1024, 2048]}\n",
        "boost_searcher = GridSearchCV(boost_classifier, num_iterations, scoring=\"accuracy\", verbose=3, n_jobs=-1, cv=5)\n",
        "boost_searcher.fit(X_train, y_train[:,0])\n",
        "\n",
        "print(f\"Resultados:\")\n",
        "print(f\"Melhor acurária = {boost_searcher.best_score_}\")\n",
        "print(f\"Melhor parâmetro = {', '.join('{}: {}'.format(k, v) for k, v in boost_searcher.best_params_.items())}\\n\")\n",
        "plot_charts(['4', '8', '16', '32', '64', '128', '256', '512', '1024', '2048'], boost_searcher.cv_results_[\"mean_test_score\"], 'Número de iterações', 'Gradient Tree Boosting')"
      ],
      "metadata": {
        "colab": {
          "base_uri": "https://localhost:8080/",
          "height": 383
        },
        "id": "fW8NDqvgarIg",
        "outputId": "7c29674b-0b39-48de-93d1-56b43276b07d"
      },
      "execution_count": 27,
      "outputs": [
        {
          "output_type": "stream",
          "name": "stdout",
          "text": [
            "Fitting 5 folds for each of 10 candidates, totalling 50 fits\n",
            "Resultados:\n",
            "Melhor acurária = 0.9730857874519847\n",
            "Melhor parâmetro = n_estimators: 2048\n",
            "\n"
          ]
        },
        {
          "output_type": "display_data",
          "data": {
            "text/plain": [
              "<Figure size 432x288 with 1 Axes>"
            ],
            "image/png": "[encoded data removed]"
          },
          "metadata": {
            "needs_background": "light"
          }
        }
      ]
    },
    {
      "cell_type": "markdown",
      "source": [
        "Assim como no Random Forest, o Gradient Tree Boosting utiliza N árvores de decisão, com a diferença que as árvores são treinadas em cima do erro das árvores anteriores. E como não foi passado nenhum outro parâmetro a ser modificado, todos foram deixados como padrão. Diferente do Random Forest, adicionar muitas árvores aqui pode gerar sobre ajuste, visto que muitas árvores são usadas como \"weak learners\". Mesmo com esse comentário, a acurácia se mostrou melhor com um maior número de árvores.\n",
        "\n"
      ],
      "metadata": {
        "id": "QmnSeVH5dcYi"
      }
    },
    {
      "cell_type": "markdown",
      "source": [
        "# Comparações entre os métodos\n",
        "\n",
        "Para a comparação das performances dos métodos, foi requisitado que fosse em termos de métricas como a curva ROC, a precisão e a revocação. Para realizar esta comparação, foi utilizado o conjunto de dados de teste, que foi previamente separado no início deste notebook. Para isso, usamos a predição probabilística de cada método, em específico os que obtiveram melhores resultados, a partir do conjunto de testes."
      ],
      "metadata": {
        "id": "DhZh_nBq9D2T"
      }
    },
    {
      "cell_type": "code",
      "source": [
        "labels = ['Naive Bayes', 'Dicision Tree', 'SVM', 'KNN','Random Forest', 'Gradient Boosting']\n",
        "algoritmos = [gnb_searcher, tree_searcher, svm_searcher, knn_searcher, forest_searcher, boost_searcher]\n",
        "\n",
        "fig, (ax1, ax2) = plt.subplots(1,2, figsize=(18,8))\n",
        "\n",
        "ns_probs = [0 for _ in range(len(y_test))]\n",
        "ns_auc = roc_auc_score(y_test, ns_probs)\n",
        "ns_fpr, ns_tpr, _ = roc_curve(y_test, ns_probs)\n",
        "ax1.plot(ns_fpr, ns_tpr, linestyle='--', label='No Skill')\n",
        "precision, recall, thresholds = precision_recall_curve(y_test, ns_probs)\n",
        "ax2.plot(recall, precision, linestyle='--', label='No Skill')\n",
        "\n",
        "for algoritmo, label in zip(algoritmos, labels):\n",
        "    probs = algoritmo.predict_proba(X_test)\n",
        "    lr_probs = probs[:, 1]\n",
        "    lr_auc = roc_auc_score(y_test, lr_probs)\n",
        "    lr_fpr, lr_tpr, _ = roc_curve(y_test, lr_probs)\n",
        "\n",
        "    precision, recall, thresholds = precision_recall_curve(y_test, lr_probs)\n",
        "    ax2.plot(recall, precision, label=label)\n",
        "    ax1.plot(lr_fpr, lr_tpr, label=label+\", AUC: %0.3f\" % lr_auc)\n",
        "\n",
        "    print(\"Método: \", label)\n",
        "    print(\"Melhor Acurácia: \", algoritmo.best_score_)\n",
        "    print(\"Precisão: \", precision.mean(), \" - Revocação: \", recall.mean())\n",
        "    print(\"-----------------------------\")\n",
        "\n",
        "ax1.set_title('ROC Curve')\n",
        "ax1.set_ylabel('True Positive Rate')\n",
        "ax1.set_xlabel('False Positive Rate')\n",
        "ax1.legend()\n",
        "\n",
        "ax2.set_title('Precision-Recall Curve')\n",
        "ax2.set_ylabel('Precision')\n",
        "ax2.set_xlabel('Recall')\n",
        "ax2.legend()\n",
        "plt.show()"
      ],
      "metadata": {
        "colab": {
          "base_uri": "https://localhost:8080/",
          "height": 930
        },
        "id": "XlpOSg2qDFmu",
        "outputId": "00f053b4-221e-4316-eb2b-579a4e923579"
      },
      "execution_count": 28,
      "outputs": [
        {
          "output_type": "stream",
          "name": "stdout",
          "text": [
            "Método:  Naive Bayes\n",
            "Melhor Acurácia:  0.9207918841721658\n",
            "Precisão:  0.8205493284428503  - Revocação:  0.9667795815507241\n",
            "-----------------------------\n",
            "Método:  Dicision Tree\n",
            "Melhor Acurácia:  0.951294527069175\n",
            "Precisão:  0.9303355951378572  - Revocação:  0.8400504572690004\n",
            "-----------------------------\n",
            "Método:  SVM\n",
            "Melhor Acurácia:  0.9515502807052103\n",
            "Precisão:  0.899969992596882  - Revocação:  0.8056166370189387\n",
            "-----------------------------\n",
            "Método:  KNN\n",
            "Melhor Acurácia:  0.8882373026034998\n",
            "Precisão:  0.8793729237840843  - Revocação:  0.7101986754966887\n",
            "-----------------------------\n",
            "Método:  Random Forest\n",
            "Melhor Acurácia:  0.9677021569979317\n",
            "Precisão:  0.9399308776511702  - Revocação:  0.9086871834826646\n",
            "-----------------------------\n",
            "Método:  Gradient Boosting\n",
            "Melhor Acurácia:  0.9730857874519847\n",
            "Precisão:  0.936251836235186  - Revocação:  0.6880284320071703\n",
            "-----------------------------\n"
          ]
        },
        {
          "output_type": "display_data",
          "data": {
            "text/plain": [
              "<Figure size 1296x576 with 2 Axes>"
            ],
            "image/png": "[encoded data removed]"
          },
          "metadata": {
            "needs_background": "light"
          }
        }
      ]
    },
    {
      "cell_type": "markdown",
      "source": [
        "Podemos ver que os algoritmos Random Forest e Gradient Tree Boosting obtiveram as maiores áreas abaixo de suas respectivas curvas, refletindo bem seus bons resultados nos experimentos realizados. O algoritmo K-NN, por sua vez, teve a menor área, visto que apresentou os menores valores médios de acurácia obtidos."
      ],
      "metadata": {
        "id": "exTxXQH7EMfr"
      }
    },
    {
      "cell_type": "markdown",
      "source": [
        "# Conclusão\n",
        "Em resumo, métodos baseados em ensembles tiveram uma performance melhor do que os demais, em especial o algoritmo Gradient Tree Boosting, que dominou totalmente todos os outros algoritmos abordados. Em contrapartida, o algoritmo K-NN foi o que obteve piores resultados, mostrando que os dados não se encaixaram bem a este modelo."
      ],
      "metadata": {
        "id": "BIeh1N35lC0D"
      }
    }
  ]
}